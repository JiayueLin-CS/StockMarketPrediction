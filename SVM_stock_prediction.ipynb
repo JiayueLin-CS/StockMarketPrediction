{
 "cells": [
  {
   "cell_type": "markdown",
   "metadata": {},
   "source": [
    "1. Python packages"
   ]
  },
  {
   "cell_type": "code",
   "execution_count": 1,
   "metadata": {},
   "outputs": [],
   "source": [
    "from data.data_handler import DataHandler\n",
    "import numpy as np\n",
    "import matplotlib.pyplot as plt"
   ]
  },
  {
   "cell_type": "markdown",
   "metadata": {},
   "source": [
    "2. Load data"
   ]
  },
  {
   "cell_type": "code",
   "execution_count": 2,
   "metadata": {},
   "outputs": [],
   "source": [
    "# Get the dataset\n",
    "dh = DataHandler()\n",
    "df = dh.get_stock_dataset(stock_ticket=\"PFE\")\n",
    "df = df.sort_values(by=['Date'])"
   ]
  },
  {
   "cell_type": "code",
   "execution_count": 3,
   "metadata": {},
   "outputs": [
    {
     "data": {
      "text/html": [
       "<div>\n",
       "<style scoped>\n",
       "    .dataframe tbody tr th:only-of-type {\n",
       "        vertical-align: middle;\n",
       "    }\n",
       "\n",
       "    .dataframe tbody tr th {\n",
       "        vertical-align: top;\n",
       "    }\n",
       "\n",
       "    .dataframe thead th {\n",
       "        text-align: right;\n",
       "    }\n",
       "</style>\n",
       "<table border=\"1\" class=\"dataframe\">\n",
       "  <thead>\n",
       "    <tr style=\"text-align: right;\">\n",
       "      <th></th>\n",
       "      <th>Open</th>\n",
       "      <th>High</th>\n",
       "      <th>Low</th>\n",
       "      <th>Close</th>\n",
       "      <th>Adj Close</th>\n",
       "      <th>Volume</th>\n",
       "      <th>Label</th>\n",
       "    </tr>\n",
       "    <tr>\n",
       "      <th>Date</th>\n",
       "      <th></th>\n",
       "      <th></th>\n",
       "      <th></th>\n",
       "      <th></th>\n",
       "      <th></th>\n",
       "      <th></th>\n",
       "      <th></th>\n",
       "    </tr>\n",
       "  </thead>\n",
       "  <tbody>\n",
       "    <tr>\n",
       "      <th>1972-06-01</th>\n",
       "      <td>0.000000</td>\n",
       "      <td>0.815346</td>\n",
       "      <td>0.802993</td>\n",
       "      <td>0.815346</td>\n",
       "      <td>0.174965</td>\n",
       "      <td>2458771</td>\n",
       "      <td>-1</td>\n",
       "    </tr>\n",
       "    <tr>\n",
       "      <th>1972-06-02</th>\n",
       "      <td>0.815346</td>\n",
       "      <td>0.817817</td>\n",
       "      <td>0.802993</td>\n",
       "      <td>0.805463</td>\n",
       "      <td>0.172844</td>\n",
       "      <td>1613885</td>\n",
       "      <td>-1</td>\n",
       "    </tr>\n",
       "    <tr>\n",
       "      <th>1972-06-05</th>\n",
       "      <td>0.805463</td>\n",
       "      <td>0.807934</td>\n",
       "      <td>0.798051</td>\n",
       "      <td>0.802993</td>\n",
       "      <td>0.172314</td>\n",
       "      <td>2585251</td>\n",
       "      <td>-1</td>\n",
       "    </tr>\n",
       "    <tr>\n",
       "      <th>1972-06-06</th>\n",
       "      <td>0.802993</td>\n",
       "      <td>0.825229</td>\n",
       "      <td>0.800522</td>\n",
       "      <td>0.820288</td>\n",
       "      <td>0.176026</td>\n",
       "      <td>2347469</td>\n",
       "      <td>-1</td>\n",
       "    </tr>\n",
       "    <tr>\n",
       "      <th>1972-06-07</th>\n",
       "      <td>0.820288</td>\n",
       "      <td>0.820288</td>\n",
       "      <td>0.807934</td>\n",
       "      <td>0.820288</td>\n",
       "      <td>0.176026</td>\n",
       "      <td>1032077</td>\n",
       "      <td>-1</td>\n",
       "    </tr>\n",
       "    <tr>\n",
       "      <th>...</th>\n",
       "      <td>...</td>\n",
       "      <td>...</td>\n",
       "      <td>...</td>\n",
       "      <td>...</td>\n",
       "      <td>...</td>\n",
       "      <td>...</td>\n",
       "      <td>...</td>\n",
       "    </tr>\n",
       "    <tr>\n",
       "      <th>2023-04-21</th>\n",
       "      <td>40.090000</td>\n",
       "      <td>40.299999</td>\n",
       "      <td>39.910000</td>\n",
       "      <td>40.209999</td>\n",
       "      <td>40.209999</td>\n",
       "      <td>19220900</td>\n",
       "      <td>-1</td>\n",
       "    </tr>\n",
       "    <tr>\n",
       "      <th>2023-04-24</th>\n",
       "      <td>40.189999</td>\n",
       "      <td>40.200001</td>\n",
       "      <td>39.709999</td>\n",
       "      <td>39.910000</td>\n",
       "      <td>39.910000</td>\n",
       "      <td>17633700</td>\n",
       "      <td>-1</td>\n",
       "    </tr>\n",
       "    <tr>\n",
       "      <th>2023-04-25</th>\n",
       "      <td>39.750000</td>\n",
       "      <td>39.919998</td>\n",
       "      <td>39.279999</td>\n",
       "      <td>39.330002</td>\n",
       "      <td>39.330002</td>\n",
       "      <td>24492400</td>\n",
       "      <td>-1</td>\n",
       "    </tr>\n",
       "    <tr>\n",
       "      <th>2023-04-26</th>\n",
       "      <td>39.160000</td>\n",
       "      <td>39.189999</td>\n",
       "      <td>38.400002</td>\n",
       "      <td>38.630001</td>\n",
       "      <td>38.630001</td>\n",
       "      <td>22401400</td>\n",
       "      <td>1</td>\n",
       "    </tr>\n",
       "    <tr>\n",
       "      <th>2023-04-27</th>\n",
       "      <td>38.619999</td>\n",
       "      <td>38.830002</td>\n",
       "      <td>38.310001</td>\n",
       "      <td>38.740002</td>\n",
       "      <td>38.740002</td>\n",
       "      <td>22434000</td>\n",
       "      <td>1</td>\n",
       "    </tr>\n",
       "  </tbody>\n",
       "</table>\n",
       "<p>12837 rows × 7 columns</p>\n",
       "</div>"
      ],
      "text/plain": [
       "                 Open       High        Low      Close  Adj Close    Volume  \\\n",
       "Date                                                                          \n",
       "1972-06-01   0.000000   0.815346   0.802993   0.815346   0.174965   2458771   \n",
       "1972-06-02   0.815346   0.817817   0.802993   0.805463   0.172844   1613885   \n",
       "1972-06-05   0.805463   0.807934   0.798051   0.802993   0.172314   2585251   \n",
       "1972-06-06   0.802993   0.825229   0.800522   0.820288   0.176026   2347469   \n",
       "1972-06-07   0.820288   0.820288   0.807934   0.820288   0.176026   1032077   \n",
       "...               ...        ...        ...        ...        ...       ...   \n",
       "2023-04-21  40.090000  40.299999  39.910000  40.209999  40.209999  19220900   \n",
       "2023-04-24  40.189999  40.200001  39.709999  39.910000  39.910000  17633700   \n",
       "2023-04-25  39.750000  39.919998  39.279999  39.330002  39.330002  24492400   \n",
       "2023-04-26  39.160000  39.189999  38.400002  38.630001  38.630001  22401400   \n",
       "2023-04-27  38.619999  38.830002  38.310001  38.740002  38.740002  22434000   \n",
       "\n",
       "            Label  \n",
       "Date               \n",
       "1972-06-01     -1  \n",
       "1972-06-02     -1  \n",
       "1972-06-05     -1  \n",
       "1972-06-06     -1  \n",
       "1972-06-07     -1  \n",
       "...           ...  \n",
       "2023-04-21     -1  \n",
       "2023-04-24     -1  \n",
       "2023-04-25     -1  \n",
       "2023-04-26      1  \n",
       "2023-04-27      1  \n",
       "\n",
       "[12837 rows x 7 columns]"
      ]
     },
     "execution_count": 3,
     "metadata": {},
     "output_type": "execute_result"
    }
   ],
   "source": [
    "# Change the index to the date\n",
    "df.index = df['Date']\n",
    "df = df.drop(['Date'], axis=1)\n",
    "df.drop(df.tail(1).index,inplace=True)\n",
    "df"
   ]
  },
  {
   "cell_type": "code",
   "execution_count": 4,
   "metadata": {},
   "outputs": [
    {
     "data": {
      "text/plain": [
       "array([[-0.815346  ,  0.012353  ],\n",
       "       [ 0.00988299,  0.01482397],\n",
       "       [ 0.00247002,  0.00988299],\n",
       "       ...,\n",
       "       [ 0.41999817,  0.63999939],\n",
       "       [ 0.52999878,  0.7899971 ],\n",
       "       [-0.12000275,  0.52000046]])"
      ]
     },
     "execution_count": 4,
     "metadata": {},
     "output_type": "execute_result"
    }
   ],
   "source": [
    "# Create the target columns\n",
    "df['Open-Close'] = df.Open - df.Close\n",
    "df['High-Low'] = df.High - df.Low\n",
    "\n",
    "X = df[['Open-Close', 'High-Low']].to_numpy()\n",
    "X"
   ]
  },
  {
   "cell_type": "code",
   "execution_count": 5,
   "metadata": {},
   "outputs": [
    {
     "data": {
      "text/plain": [
       "array([0, 0, 1, ..., 0, 1, 0])"
      ]
     },
     "execution_count": 5,
     "metadata": {},
     "output_type": "execute_result"
    }
   ],
   "source": [
    "# Target variables\n",
    "y = np.where(df['Close'].shift(-1) > df['Close'], 1, 0)\n",
    "y\n"
   ]
  },
  {
   "cell_type": "markdown",
   "metadata": {},
   "source": [
    "3. Split data"
   ]
  },
  {
   "cell_type": "code",
   "execution_count": 6,
   "metadata": {},
   "outputs": [
    {
     "name": "stdout",
     "output_type": "stream",
     "text": [
      "x_train.shape =  (10269, 2)\n",
      "y_train.shape =  (10269,)\n",
      "x_test.shape =  (2568, 2)\n",
      "y_test.shape =  (2568,)\n"
     ]
    }
   ],
   "source": [
    "# Split the data set into train and test sets\n",
    "split_percentage = 0.8\n",
    "split = int(split_percentage*len(df))\n",
    "\n",
    "# Train data set\n",
    "X_train = X[:split]\n",
    "y_train = y[:split]\n",
    "\n",
    "# Test data set\n",
    "X_test = X[split:]\n",
    "y_test = y[split:]\n",
    "\n",
    "print('x_train.shape = ', X_train.shape)\n",
    "print('y_train.shape = ', y_train.shape)\n",
    "print('x_test.shape = ', X_test.shape)\n",
    "print('y_test.shape = ', y_test.shape)"
   ]
  },
  {
   "cell_type": "markdown",
   "metadata": {},
   "source": [
    "4. Normalize data"
   ]
  },
  {
   "cell_type": "code",
   "execution_count": 7,
   "metadata": {},
   "outputs": [],
   "source": [
    "# Implement a min-max scaler\n",
    "class MinMaxScaler:\n",
    "    def __init__(self, feature_range=(0, 1)):\n",
    "        self.feature_range = feature_range\n",
    "\n",
    "    def fit(self, X):\n",
    "        self.min_ = np.min(X, axis=0)\n",
    "        self.max_ = np.max(X, axis=0)\n",
    "        return self\n",
    "\n",
    "    def transform(self, X):\n",
    "        X_std = (X - self.min_) / (self.max_ - self.min_)\n",
    "        X_scaled = X_std * (self.feature_range[1] - self.feature_range[0]) + self.feature_range[0]\n",
    "        return X_scaled\n",
    "\n",
    "    def fit_transform(self, X):\n",
    "        self.fit(X)\n",
    "        return self.transform(X)\n",
    "    \n",
    "    def inverse_transform(self, X):\n",
    "        X_std = (X - self.feature_range[0]) / (self.feature_range[1] - self.feature_range[0])\n",
    "        X_scaled = X_std * (self.max_ - self.min_) + self.min_\n",
    "        return X_scaled\n",
    "\n",
    "# Normalize the dataset\n",
    "scaler = MinMaxScaler()\n",
    "X_train = scaler.fit_transform(X_train)\n",
    "X_test = scaler.transform(X_test)"
   ]
  },
  {
   "cell_type": "markdown",
   "metadata": {},
   "source": [
    "5. Build model"
   ]
  },
  {
   "cell_type": "code",
   "execution_count": 8,
   "metadata": {},
   "outputs": [],
   "source": [
    "# Implement the SVM class\n",
    "class SVM:\n",
    "    def __init__(self, learning_rate=0.01, lambda_param=0.01, num_iterations=1000):\n",
    "        self.learning_rate = learning_rate\n",
    "        self.lambda_param = lambda_param\n",
    "        self.num_iterations = num_iterations\n",
    "    \n",
    "    def fit(self, X, y):\n",
    "        # Initialize parameters\n",
    "        m, n = X.shape\n",
    "        self.w = np.zeros(n)\n",
    "        self.b = 0\n",
    "        \n",
    "        # Gradient descent\n",
    "        for iteration in range(self.num_iterations):\n",
    "            # Compute gradient\n",
    "            margin = y * (np.dot(X, self.w) + self.b)\n",
    "            misclassified_indices = np.where(margin < 1)[0]\n",
    "            d_w = self.w - self.lambda_param * np.sum(y[misclassified_indices].reshape(-1, 1) * X[misclassified_indices], axis=0)\n",
    "            d_b = - self.lambda_param * np.sum(y[misclassified_indices])\n",
    "            \n",
    "            # Update parameters\n",
    "            self.w -= self.learning_rate * d_w\n",
    "            self.b -= self.learning_rate * d_b\n",
    "    \n",
    "    def predict(self, X):\n",
    "        return np.sign(np.dot(X, self.w) + self.b)\n"
   ]
  },
  {
   "cell_type": "code",
   "execution_count": 9,
   "metadata": {},
   "outputs": [
    {
     "name": "stdout",
     "output_type": "stream",
     "text": [
      "Accuracy: 0.4941588785046729\n",
      "[1. 1. 1. ... 1. 1. 1.] [1 1 0 ... 0 1 0]\n"
     ]
    }
   ],
   "source": [
    "# Train the SVM classifier\n",
    "svm = SVM()\n",
    "svm.fit(X_train, y_train)\n",
    "\n",
    "# Make predictions on the test set\n",
    "y_pred = svm.predict(X_test)\n",
    "\n",
    "# Compute accuracy\n",
    "accuracy = np.mean(y_pred == y_test)\n",
    "print(f'Accuracy: {accuracy}')\n",
    "print(y_pred, y_test)"
   ]
  },
  {
   "cell_type": "code",
   "execution_count": 10,
   "metadata": {},
   "outputs": [
    {
     "name": "stdout",
     "output_type": "stream",
     "text": [
      "Mean f1 score: 1.0\n"
     ]
    }
   ],
   "source": [
    "# Define number of folds for k-fold cross-validation\n",
    "k = 5\n",
    "\n",
    "# Shuffle data\n",
    "np.random.seed(42)\n",
    "indices = np.random.permutation(len(X))\n",
    "X = X[indices]\n",
    "y = y[indices]\n",
    "\n",
    "# Split data into k folds\n",
    "X_folds = np.array_split(X, k)\n",
    "y_folds = np.array_split(y, k)\n",
    "\n",
    "# Loop over folds\n",
    "scores = []\n",
    "for i in range(k):\n",
    "    # Prepare training and testing data for this fold\n",
    "    X_train = np.concatenate([X_folds[j] for j in range(k) if j != i])\n",
    "    y_train = np.concatenate([y_folds[j] for j in range(k) if j != i])\n",
    "    X_test = X_folds[i]\n",
    "    y_test = y_folds[i]\n",
    "    \n",
    "    # Train SVM model on training data\n",
    "    svm = SVM()\n",
    "    svm.fit(X_train, y_train)\n",
    "    \n",
    "    # Make predictions on test data\n",
    "    y_pred = svm.predict(X_test)\n",
    "    \n",
    "    # Compute f1 score for this fold\n",
    "    tp = np.sum((y_pred == 1) & (y_test == 1))\n",
    "    fp = np.sum((y_pred == 1) & (y_test == -1))\n",
    "    fn = np.sum((y_pred == -1) & (y_test == 1))\n",
    "    precision = tp / (tp + fp)\n",
    "    recall = tp / (tp + fn)\n",
    "    f1 = 2 * (precision * recall) / (precision + recall)\n",
    "    scores.append(f1)\n",
    "\n",
    "# Compute mean f1 score over all folds\n",
    "mean_f1 = np.mean(scores)\n",
    "print(f'Mean f1 score: {mean_f1}')\n"
   ]
  }
 ],
 "metadata": {
  "kernelspec": {
   "display_name": "Python 3 (ipykernel)",
   "language": "python",
   "name": "python3"
  },
  "language_info": {
   "codemirror_mode": {
    "name": "ipython",
    "version": 3
   },
   "file_extension": ".py",
   "mimetype": "text/x-python",
   "name": "python",
   "nbconvert_exporter": "python",
   "pygments_lexer": "ipython3",
   "version": "3.10.10"
  }
 },
 "nbformat": 4,
 "nbformat_minor": 2
}
